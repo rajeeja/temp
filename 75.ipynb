{
 "cells": [
  {
   "cell_type": "code",
   "execution_count": 1,
   "metadata": {},
   "outputs": [
    {
     "name": "stdout",
     "output_type": "stream",
     "text": [
      "['cf_class_0_cluster0.pkl', 'cf_class_1_cluster0.pkl', 'cf_class_1_cluster1.pkl', 'cf_class_0_cluster1.pkl']\n"
     ]
    }
   ],
   "source": [
    "import os\n",
    "import pickle\n",
    "import pandas as pd\n",
    "import mygene\n",
    "\n",
    "clusters=[]\n",
    "files = os.listdir('/home/jain/clusters/0911_0.75')\n",
    "print(files)\n",
    "os.chdir('/home/jain/clusters/0911_0.75')\n",
    "log_all = pd.read_csv('https://ftp.mcs.anl.gov/pub/candle/public/benchmarks/Pilot1/normal-tumor/matched_normal_samples.FPKM-UQ.log-transformed.csv', sep=',')\n",
    "import mygene\n",
    "mg = mygene.MyGeneInfo()"
   ]
  },
  {
   "cell_type": "markdown",
   "metadata": {},
   "source": [
    "- Perturbation vectors were obtained by running Counterfactual analysis on NT3 dataset\n",
    "- These are the files (pkl above). Each file represents 1 cluster of perturbation vectors. Using KMeans with 2D PCA.\n",
    "- Inside each file is the centroid, positive indices (indices whos threshold is > 0.9max), negative indices (indices whos threshold is < -0.9max), all the sample indices (from the 1100 dataset) that belong to that particular cluster.\n",
    "- The file names correspond to the cf class (0 or 1) and the cluster index.\n",
    "- Here we try to do a literature review of the threshold genes for cancer\n",
    "- The various types of cancer tumors used in our dataset are here: https://ftp.mcs.anl.gov/pub/candle/public/benchmarks/Pilot1/normal-tumor/matched_normal_samples.metadata.tsv"
   ]
  },
  {
   "cell_type": "code",
   "execution_count": 2,
   "metadata": {},
   "outputs": [],
   "source": [
    "gene_all = list(log_all.columns.values)\n"
   ]
  },
  {
   "cell_type": "code",
   "execution_count": 3,
   "metadata": {},
   "outputs": [
    {
     "name": "stdout",
     "output_type": "stream",
     "text": [
      "60484\n"
     ]
    }
   ],
   "source": [
    "print(len(gene_all))"
   ]
  },
  {
   "cell_type": "code",
   "execution_count": 4,
   "metadata": {},
   "outputs": [
    {
     "data": {
      "text/plain": [
       "'ENSG00000000003.13'"
      ]
     },
     "execution_count": 4,
     "metadata": {},
     "output_type": "execute_result"
    }
   ],
   "source": [
    "gene_all=gene_all[1:]\n",
    "gene_all[0]"
   ]
  },
  {
   "cell_type": "code",
   "execution_count": 5,
   "metadata": {},
   "outputs": [
    {
     "data": {
      "text/plain": [
       "'ENSG00000000005.5'"
      ]
     },
     "execution_count": 5,
     "metadata": {},
     "output_type": "execute_result"
    }
   ],
   "source": [
    "gene_all[1]"
   ]
  },
  {
   "cell_type": "code",
   "execution_count": 6,
   "metadata": {},
   "outputs": [
    {
     "data": {
      "text/plain": [
       "'ENSG00000000419.11'"
      ]
     },
     "execution_count": 6,
     "metadata": {},
     "output_type": "execute_result"
    }
   ],
   "source": [
    "gene_all[2]"
   ]
  },
  {
   "cell_type": "code",
   "execution_count": 13,
   "metadata": {},
   "outputs": [
    {
     "name": "stdout",
     "output_type": "stream",
     "text": [
      "Cluster:  cf_class_0_cluster0.pkl\n",
      "sample ids: [   1    2    3    4    7   10   15   33   38   39   40   41   45   53\n",
      "   55   56   58   62   63   64   65   70   75   77   80   89   90   93\n",
      "   95   99  102  103  104  113  116  117  126  133  143  145  149  152\n",
      "  154  157  161  164  168  169  170  175  181  183  184  187  189  191\n",
      "  200  202  203  206  213  217  218  220  223  228  233  235  237  244\n",
      "  249  255  257  259  261  262  264  265  267  268  273  280  282  283\n",
      "  289  290  292  294  295  297  303  304  305  309  310  311  317  321\n",
      "  322  323  324  327  328  330  331  332  334  335  336  337  339  340\n",
      "  342  351  353  354  360  363  364  365  368  378  379  380  381  383\n",
      "  384  387  390  395  398  403  405  407  414  415  432  434  435  438\n",
      "  441  451  453  455  456  457  459  462  464  465  467  468  469  470\n",
      "  471  472  473  476  479  482  484  486  488  489  493  497  499  503\n",
      "  506  511  514  517  518  521  524  525  529  530  531  532  534  539\n",
      "  540  543  544  547  549  550  551  559  560  563  572  574  575  577\n",
      "  580  582  585  589  591  595  597  600  601  606  607  609  615  623\n",
      "  628  629  631  637  643  645  646  647  649  651  653  667  674  677\n",
      "  679  685  687  689  692  693  696  698  702  703  706  707  711  712\n",
      "  714  721  722  724  728  729  731  733  741  743  745  747  751  754\n",
      "  755  759  760  761  765  768  770  771  780  781  792  793  802  806\n",
      "  810  812  817  818  820  822  824  827  828  832  835  842  848  851\n",
      "  852  854  855  861  863  864  871  875  877  881  883  885  888  892\n",
      "  893  900  902  905  908  910  911  916  922  923  924  932  940  941\n",
      "  942  950  953  957  958  960  962  968  971  976  978  979  993  994\n",
      "  995 1006 1008 1009 1013 1015 1018 1025 1033 1034 1036 1039 1041 1048\n",
      " 1052 1053 1058 1062 1068 1075 1076 1078 1079 1082 1083 1089 1091 1093\n",
      " 1103 1105 1106 1115 1118 1119 1127 1130 1132 1133 1135 1138 1143 1146\n",
      " 1150 1156 1157 1158 1159 1160 1163 1165 1167 1172 1174 1176 1184 1187\n",
      " 1188 1192 1195 1201 1203 1206 1208 1210 1211 1212 1213 1219 1229 1232\n",
      " 1234 1239 1241 1242 1243 1249 1254 1256 1259 1263 1265 1266 1272 1273\n",
      " 1274 1277 1279 1280 1287 1289 1290 1298 1304 1305 1309 1315 1317 1320\n",
      " 1323 1325 1328 1329 1333 1337 1342 1344 1346 1347 1354 1358 1365 1368\n",
      " 1372 1373 1376 1377 1385 1394 1398 1399]\n",
      "+ve (array([], dtype=int64),)\n",
      "-ve (array([12122, 12660, 24384, 34180, 45322, 58261]),)\n",
      "\n",
      "\n",
      "\n",
      "print 12122 <class 'numpy.int64'>\n",
      "print 12660 <class 'numpy.int64'>\n",
      "print 24384 <class 'numpy.int64'>\n",
      "print 34180 <class 'numpy.int64'>\n",
      "print 45322 <class 'numpy.int64'>\n",
      "print 58261 <class 'numpy.int64'>\n",
      "Cluster:  cf_class_1_cluster0.pkl\n",
      "sample ids: [   0    5    9   11   12   14   17   19   20   21   26   27   30   31\n",
      "   35   37   48   51   57   61   69   72   73   76   79   81   83   85\n",
      "   91  101  105  107  114  115  118  120  123  124  127  128  132  135\n",
      "  136  137  138  140  141  142  144  146  148  153  156  160  162  163\n",
      "  165  172  173  174  176  179  182  188  190  193  194  195  198  199\n",
      "  201  209  215  221  222  225  230  236  239  240  241  245  253  254\n",
      "  263  266  269  270  271  272  274  277  279  281  287  288  291  296\n",
      "  298  299  308  312  314  316  319  326  341  347  348  349  350  352\n",
      "  356  358  359  362  372  373  374  375  377  382  388  394  401  408\n",
      "  409  419  420  425  428  429  439  440  444  448  450  454  458  463\n",
      "  477  480  483  485  491  495  501  502  505  513  515  516  522  533\n",
      "  536  537  545  546  548  553  556  564  565  570  571  573  579  593\n",
      "  598  602  604  608  611  612  614  618  620  622  630  632  633  635\n",
      "  636  638  641  642  656  660  662  665  666  671  678  680  681  683\n",
      "  686  690  694  695  697  700  705  713  715  719  725  730  734  740\n",
      "  744  748  756  758  764  774  775  779  782  785  786  787  794  797\n",
      "  799  803  807  813  814  821  825  826  830  836  837  839  840  845\n",
      "  849  850  858  866  867  869  870  876  878  879  880  884  889  895\n",
      "  898  899  901  903  906  907  909  912  913  921  926  927  931  947\n",
      "  948  956  961  965  966  970  972  980  981  982  985  987  988  989\n",
      "  990  999 1000 1001 1005 1010 1019 1020 1023 1027 1028 1030 1031 1037\n",
      " 1049 1050 1056 1057 1063 1065 1069 1073 1074 1080 1081 1084 1088 1090\n",
      " 1095 1098 1099 1100 1102 1108 1110 1113 1117 1122 1123 1125 1128 1131\n",
      " 1144 1148 1151 1154 1161 1166 1170 1171 1178 1180 1182 1183 1185 1191\n",
      " 1196 1205 1207 1224 1227 1231 1233 1236 1247 1258 1261 1262 1264 1269\n",
      " 1275 1276 1281 1283 1288 1291 1294 1296 1300 1308 1310 1312 1314 1321\n",
      " 1322 1327 1330 1332 1339 1340 1341 1349 1352 1356 1364 1366 1367 1371\n",
      " 1378 1386 1388 1390 1391 1395 1397]\n",
      "+ve (array([], dtype=int64),)\n",
      "-ve (array([ 8618,  9603, 14270, 23406, 32077, 44932]),)\n",
      "\n",
      "\n",
      "\n",
      "print 8618 <class 'numpy.int64'>\n",
      "print 9603 <class 'numpy.int64'>\n",
      "print 14270 <class 'numpy.int64'>\n",
      "print 23406 <class 'numpy.int64'>\n",
      "print 32077 <class 'numpy.int64'>\n",
      "print 44932 <class 'numpy.int64'>\n",
      "Cluster:  cf_class_1_cluster1.pkl\n",
      "sample ids: [   8   13   22   23   24   29   32   43   46   47   52   59   60   66\n",
      "   71   78   82   84   87   88   92   96   97  100  106  108  109  110\n",
      "  111  119  122  125  129  131  139  151  166  167  171  177  185  196\n",
      "  204  208  210  212  216  227  232  234  242  246  247  248  252  256\n",
      "  258  275  278  285  302  306  307  313  315  318  320  325  329  338\n",
      "  343  346  355  366  367  369  376  389  392  396  397  400  402  404\n",
      "  406  411  412  416  417  423  426  427  431  442  445  447  449  452\n",
      "  475  492  494  498  500  504  507  508  509  520  523  527  535  538\n",
      "  541  542  552  554  555  558  561  562  566  567  568  569  578  583\n",
      "  584  586  587  592  596  599  617  621  624  625  627  648  650  652\n",
      "  654  655  659  661  664  669  670  672  673  675  682  684  688  691\n",
      "  699  701  704  708  718  723  726  732  738  742  746  750  752  753\n",
      "  763  767  773  778  783  784  788  789  795  798  801  804  805  808\n",
      "  816  829  834  843  846  853  856  859  862  872  873  874  882  890\n",
      "  897  915  917  918  929  934  936  937  938  944  946  951  954  959\n",
      "  969  973  975  977  983  991  998 1007 1011 1012 1014 1016 1026 1029\n",
      " 1032 1035 1038 1040 1042 1045 1051 1054 1055 1060 1061 1064 1066 1067\n",
      " 1070 1085 1086 1087 1092 1094 1096 1109 1112 1120 1126 1129 1134 1137\n",
      " 1139 1140 1145 1149 1152 1155 1168 1169 1173 1175 1177 1179 1186 1198\n",
      " 1204 1215 1216 1217 1218 1220 1221 1222 1223 1225 1226 1230 1245 1246\n",
      " 1248 1251 1252 1253 1267 1270 1278 1282 1284 1285 1292 1293 1297 1302\n",
      " 1303 1306 1311 1316 1318 1336 1338 1343 1345 1355 1357 1360 1361 1362\n",
      " 1370 1374 1375 1381 1382 1384 1392]\n",
      "+ve (array([], dtype=int64),)\n",
      "-ve (array([ 8618,  9603, 14270, 17114, 32077, 44932, 53217, 59202]),)\n",
      "\n",
      "\n",
      "\n",
      "print 8618 <class 'numpy.int64'>\n",
      "print 9603 <class 'numpy.int64'>\n",
      "print 14270 <class 'numpy.int64'>\n",
      "print 17114 <class 'numpy.int64'>\n",
      "print 32077 <class 'numpy.int64'>\n",
      "print 44932 <class 'numpy.int64'>\n",
      "print 53217 <class 'numpy.int64'>\n",
      "print 59202 <class 'numpy.int64'>\n",
      "Cluster:  cf_class_0_cluster1.pkl\n",
      "sample ids: [   6   16   18   25   28   34   36   42   44   49   50   54   67   68\n",
      "   74   86   94   98  112  121  130  134  147  150  155  158  159  178\n",
      "  180  186  192  197  205  207  211  214  219  224  226  229  231  238\n",
      "  243  250  251  260  276  284  286  293  300  301  333  344  345  357\n",
      "  361  370  371  385  386  391  393  399  410  413  418  421  422  424\n",
      "  430  433  436  437  443  446  460  461  466  474  478  481  487  490\n",
      "  496  510  512  519  526  528  557  576  581  588  590  594  603  605\n",
      "  610  613  616  619  626  634  639  640  644  657  658  663  668  676\n",
      "  709  710  716  717  720  727  735  736  737  739  749  757  762  766\n",
      "  769  772  776  777  790  791  796  800  809  811  815  819  823  831\n",
      "  833  838  841  844  847  857  860  865  868  886  887  891  894  896\n",
      "  904  914  920  925  928  930  933  935  939  943  945  949  952  955\n",
      "  963  964  967  974  984  986  992  996  997 1002 1003 1004 1017 1021\n",
      " 1022 1024 1043 1044 1046 1047 1059 1071 1072 1077 1097 1101 1104 1107\n",
      " 1111 1114 1116 1121 1124 1136 1141 1142 1147 1153 1162 1164 1181 1189\n",
      " 1190 1193 1194 1197 1199 1200 1202 1209 1214 1228 1235 1237 1238 1240\n",
      " 1244 1250 1255 1257 1260 1268 1271 1286 1295 1299 1301 1307 1313 1319\n",
      " 1324 1326 1331 1334 1335 1348 1350 1351 1353 1359 1363 1369 1379 1380\n",
      " 1383 1387 1389 1393 1396]\n",
      "+ve (array([], dtype=int64),)\n",
      "-ve (array([12122, 52177, 58261]),)\n",
      "\n",
      "\n",
      "\n",
      "print 12122 <class 'numpy.int64'>\n",
      "print 52177 <class 'numpy.int64'>\n",
      "print 58261 <class 'numpy.int64'>\n"
     ]
    },
    {
     "data": {
      "text/plain": [
       "[12122,\n",
       " 12660,\n",
       " 24384,\n",
       " 34180,\n",
       " 45322,\n",
       " 58261,\n",
       " 8618,\n",
       " 9603,\n",
       " 14270,\n",
       " 23406,\n",
       " 32077,\n",
       " 44932,\n",
       " 8618,\n",
       " 9603,\n",
       " 14270,\n",
       " 17114,\n",
       " 32077,\n",
       " 44932,\n",
       " 53217,\n",
       " 59202,\n",
       " 12122,\n",
       " 52177,\n",
       " 58261]"
      ]
     },
     "execution_count": 13,
     "metadata": {},
     "output_type": "execute_result"
    }
   ],
   "source": [
    "os.chdir('/home/jain/clusters/0911_0.75')\n",
    "cluster_genes=[]\n",
    "for f in files:\n",
    "    clusters = pickle.load(open(f, \"rb\"))\n",
    "    print(\"Cluster: \", f)\n",
    "    print(\"sample ids:\", clusters['sample indices in this cluster'])\n",
    "    print(\"+ve\",clusters['positive threshold indices'])\n",
    "    print(\"-ve\",clusters['negative threshold indices'])\n",
    "    a=clusters['positive threshold indices']\n",
    "    b=clusters['negative threshold indices']\n",
    "    print(\"\\n\\n\")\n",
    "\n",
    "    for bb in b:\n",
    "        for i in bb:\n",
    "            print(\"print\", i, type(i))\n",
    "            cluster_genes.append(i)\n",
    "    for aa in a:\n",
    "        for j in aa:\n",
    "            print(\"print\", j, type(j))\n",
    "            cluster_genes.append(j)\n",
    "cluster_genes"
   ]
  },
  {
   "cell_type": "code",
   "execution_count": null,
   "metadata": {},
   "outputs": [],
   "source": []
  },
  {
   "cell_type": "code",
   "execution_count": 14,
   "metadata": {},
   "outputs": [
    {
     "data": {
      "text/plain": [
       "[24384,\n",
       " 53217,\n",
       " 59202,\n",
       " 9603,\n",
       " 34180,\n",
       " 44932,\n",
       " 45322,\n",
       " 8618,\n",
       " 32077,\n",
       " 23406,\n",
       " 52177,\n",
       " 12660,\n",
       " 58261,\n",
       " 17114,\n",
       " 12122,\n",
       " 14270]"
      ]
     },
     "execution_count": 14,
     "metadata": {},
     "output_type": "execute_result"
    }
   ],
   "source": [
    "gene_names = []\n",
    "# 9603 32077 appears twice? \n",
    "cluster_genes=list(set(cluster_genes))\n",
    "for g in cluster_genes:\n",
    "    split=gene_all[g].split(\".\")\n",
    "    gene_names.append(split[0])\n",
    "    \n",
    "    \n",
    "cluster_genes"
   ]
  },
  {
   "cell_type": "code",
   "execution_count": 15,
   "metadata": {},
   "outputs": [
    {
     "name": "stdout",
     "output_type": "stream",
     "text": [
      "querying 1-16...done.\n",
      "Finished.\n",
      "2 input query terms found no hit:\n",
      "\t['ENSG00000221346', 'ENSG00000280006']\n",
      "Pass \"returnall=True\" to return complete lists of duplicate or missing query terms.\n"
     ]
    },
    {
     "data": {
      "text/plain": [
       "['ENSG00000221346',\n",
       " 'ENSG00000271010',\n",
       " 'ENSG00000280006',\n",
       " 'ENSG00000152952',\n",
       " 'ENSG00000236054',\n",
       " 'ENSG00000257113',\n",
       " 'ENSG00000257865',\n",
       " 'ENSG00000144771',\n",
       " 'ENSG00000232995',\n",
       " 'ENSG00000215537',\n",
       " 'ENSG00000268866',\n",
       " 'ENSG00000169704',\n",
       " 'ENSG00000278967',\n",
       " 'ENSG00000196367',\n",
       " 'ENSG00000167543',\n",
       " 'ENSG00000177239']"
      ]
     },
     "execution_count": 15,
     "metadata": {},
     "output_type": "execute_result"
    }
   ],
   "source": [
    "geneSyms = mg.querymany(gene_names , scopes='ensembl.gene', fields='symbol', species='human')\n",
    "gene_names"
   ]
  },
  {
   "cell_type": "code",
   "execution_count": 16,
   "metadata": {},
   "outputs": [
    {
     "data": {
      "text/plain": [
       "[{'query': 'ENSG00000221346', 'notfound': True},\n",
       " {'query': 'ENSG00000271010', '_id': 'ENSG00000271010', '_score': 22.508919},\n",
       " {'query': 'ENSG00000280006', 'notfound': True},\n",
       " {'query': 'ENSG00000152952',\n",
       "  '_id': '5352',\n",
       "  '_score': 21.656729,\n",
       "  'symbol': 'PLOD2'},\n",
       " {'query': 'ENSG00000236054',\n",
       "  '_id': 'ENSG00000236054',\n",
       "  '_score': 23.300749,\n",
       "  'symbol': 'SYN3-AS1'},\n",
       " {'query': 'ENSG00000257113', '_id': 'ENSG00000257113', '_score': 22.508919},\n",
       " {'query': 'ENSG00000257865', '_id': 'ENSG00000257865', '_score': 22.50897},\n",
       " {'query': 'ENSG00000144771',\n",
       "  '_id': '57408',\n",
       "  '_score': 22.508919,\n",
       "  'symbol': 'LRTM1'},\n",
       " {'query': 'ENSG00000232995',\n",
       "  '_id': '8490',\n",
       "  '_score': 21.656971,\n",
       "  'symbol': 'RGS5'},\n",
       " {'query': 'ENSG00000215537',\n",
       "  '_id': 'ENSG00000215537',\n",
       "  '_score': 7.5353484,\n",
       "  'symbol': 'ZNF736P11Y'},\n",
       " {'query': 'ENSG00000268866', '_id': 'ENSG00000268866', '_score': 22.568039},\n",
       " {'query': 'ENSG00000169704',\n",
       "  '_id': '2815',\n",
       "  '_score': 21.656729,\n",
       "  'symbol': 'GP9'},\n",
       " {'query': 'ENSG00000278967', '_id': 'ENSG00000278967', '_score': 22.568039},\n",
       " {'query': 'ENSG00000196367',\n",
       "  '_id': '8295',\n",
       "  '_score': 22.046267,\n",
       "  'symbol': 'TRRAP'},\n",
       " {'query': 'ENSG00000167543',\n",
       "  '_id': '90313',\n",
       "  '_score': 22.046509,\n",
       "  'symbol': 'TP53I13'},\n",
       " {'query': 'ENSG00000177239',\n",
       "  '_id': '11253',\n",
       "  '_score': 21.987385,\n",
       "  'symbol': 'MAN1B1'}]"
      ]
     },
     "execution_count": 16,
     "metadata": {},
     "output_type": "execute_result"
    }
   ],
   "source": [
    "geneSyms"
   ]
  },
  {
   "cell_type": "code",
   "execution_count": 17,
   "metadata": {},
   "outputs": [
    {
     "data": {
      "text/plain": [
       "['PLOD2',\n",
       " 'SYN3-AS1',\n",
       " 'LRTM1',\n",
       " 'RGS5',\n",
       " 'ZNF736P11Y',\n",
       " 'GP9',\n",
       " 'TRRAP',\n",
       " 'TP53I13',\n",
       " 'MAN1B1']"
      ]
     },
     "execution_count": 17,
     "metadata": {},
     "output_type": "execute_result"
    }
   ],
   "source": [
    "symbols = [i['symbol'] for i in geneSyms if 'symbol' in i]\n",
    "symbols"
   ]
  },
  {
   "cell_type": "code",
   "execution_count": 18,
   "metadata": {},
   "outputs": [
    {
     "data": {
      "text/plain": [
       "{'query': 'ENSG00000221346', 'notfound': True}"
      ]
     },
     "execution_count": 18,
     "metadata": {},
     "output_type": "execute_result"
    }
   ],
   "source": [
    "# There are only 6 genes and all on the negative threshold side\n",
    "# This list is probably just saying that most of the time these genes are very different (high or low) compared to other 60484\n",
    "geneSyms[:][0] \n",
    "# appeared twice in our list"
   ]
  },
  {
   "cell_type": "markdown",
   "metadata": {},
   "source": [
    "https://www.proteinatlas.org/ENSG00000152952-PLOD2  One major killer gene: Prognostic marker in renal cancer (unfavorable), liver cancer (unfavorable), lung cancer (unfavorable), cervical cancer (unfavorable) and stomach cancer (unfavorable)"
   ]
  },
  {
   "cell_type": "code",
   "execution_count": 19,
   "metadata": {},
   "outputs": [
    {
     "data": {
      "text/plain": [
       "{'query': 'ENSG00000271010', '_id': 'ENSG00000271010', '_score': 22.508919}"
      ]
     },
     "execution_count": 19,
     "metadata": {},
     "output_type": "execute_result"
    }
   ],
   "source": [
    "geneSyms[:][1]"
   ]
  },
  {
   "cell_type": "markdown",
   "metadata": {},
   "source": [
    "https://www.proteinatlas.org/ENSG00000144771-LRTM1/pathology urothelial cancer"
   ]
  },
  {
   "cell_type": "code",
   "execution_count": 20,
   "metadata": {},
   "outputs": [
    {
     "data": {
      "text/plain": [
       "{'query': 'ENSG00000280006', 'notfound': True}"
      ]
     },
     "execution_count": 20,
     "metadata": {},
     "output_type": "execute_result"
    }
   ],
   "source": [
    "geneSyms[:][2]\n",
    "# appeared twice in our list"
   ]
  },
  {
   "cell_type": "markdown",
   "metadata": {},
   "source": [
    "In conclusion, the present study showed that RGS5 played an inhibitory role in human lung cancer cells through induction of apoptosis. Furthermore, RGS5 enhanced the cytotoxic effect of radiation in the human lung cancer cells. Our results indicated that RGS5 may be a potential target for cancer therapy."
   ]
  },
  {
   "cell_type": "code",
   "execution_count": 21,
   "metadata": {},
   "outputs": [
    {
     "data": {
      "text/plain": [
       "{'query': 'ENSG00000152952',\n",
       " '_id': '5352',\n",
       " '_score': 21.656729,\n",
       " 'symbol': 'PLOD2'}"
      ]
     },
     "execution_count": 21,
     "metadata": {},
     "output_type": "execute_result"
    }
   ],
   "source": [
    "geneSyms[:][3]"
   ]
  },
  {
   "cell_type": "markdown",
   "metadata": {},
   "source": [
    "https://www.proteinatlas.org/ENSG00000143344-RGL1/pathology no specific type of cancer but graph shows can be present at elevated levels for several types of cancer - part of cluster 0"
   ]
  },
  {
   "cell_type": "code",
   "execution_count": 22,
   "metadata": {},
   "outputs": [
    {
     "data": {
      "text/plain": [
       "{'query': 'ENSG00000236054',\n",
       " '_id': 'ENSG00000236054',\n",
       " '_score': 23.300749,\n",
       " 'symbol': 'SYN3-AS1'}"
      ]
     },
     "execution_count": 22,
     "metadata": {},
     "output_type": "execute_result"
    }
   ],
   "source": [
    "geneSyms[:][4]"
   ]
  },
  {
   "cell_type": "markdown",
   "metadata": {},
   "source": [
    "https://www.proteinatlas.org/ENSG00000167543-TP53I13/pathology\n",
    "Renal cancer"
   ]
  },
  {
   "cell_type": "code",
   "execution_count": 23,
   "metadata": {},
   "outputs": [
    {
     "data": {
      "text/plain": [
       "{'query': 'ENSG00000257113', '_id': 'ENSG00000257113', '_score': 22.508919}"
      ]
     },
     "execution_count": 23,
     "metadata": {},
     "output_type": "execute_result"
    }
   ],
   "source": [
    "geneSyms[:][5]"
   ]
  },
  {
   "cell_type": "markdown",
   "metadata": {},
   "source": [
    "Novel MAN1B1 variants were identified in patients with facial dysmorphism, hypotonia, truncal obesity and in some, behavioural problems. Results show that MAN1B1 expression was higher in bladder cancer (BC) tissues than those in normal tissues. Its overexpression was associated with poor prognosis."
   ]
  },
  {
   "cell_type": "code",
   "execution_count": 108,
   "metadata": {},
   "outputs": [],
   "source": [
    "meta = pd.read_csv('https://ftp.mcs.anl.gov/pub/candle/public/benchmarks/Pilot1/normal-tumor/matched_normal_samples.metadata.tsv', sep=',')"
   ]
  },
  {
   "cell_type": "code",
   "execution_count": 109,
   "metadata": {},
   "outputs": [
    {
     "data": {
      "text/html": [
       "<div>\n",
       "<style scoped>\n",
       "    .dataframe tbody tr th:only-of-type {\n",
       "        vertical-align: middle;\n",
       "    }\n",
       "\n",
       "    .dataframe tbody tr th {\n",
       "        vertical-align: top;\n",
       "    }\n",
       "\n",
       "    .dataframe thead th {\n",
       "        text-align: right;\n",
       "    }\n",
       "</style>\n",
       "<table border=\"1\" class=\"dataframe\">\n",
       "  <thead>\n",
       "    <tr style=\"text-align: right;\">\n",
       "      <th></th>\n",
       "      <th>aeec3005-25d7-45fc-a9ff-014d57960216\\tProstate\\tProstate Adenocarcinoma\\tSolid Tissue Normal\\t76a194e5-ba36-4e81-b0b4-6c22a69fe9b5.FPKM-UQ.txt\\tPrimary Tumor\\t26b9d14a-da14-4062-8494-fb87b04e9d7b.FPKM-UQ.txt</th>\n",
       "    </tr>\n",
       "  </thead>\n",
       "  <tbody>\n",
       "    <tr>\n",
       "      <th>0</th>\n",
       "      <td>c8fb94dd-c535-48f4-9419-aac2bf47bbb4\\tUterus\\t...</td>\n",
       "    </tr>\n",
       "    <tr>\n",
       "      <th>1</th>\n",
       "      <td>de206681-3e27-4d4f-8669-aefb12b5b1e3\\tHead and...</td>\n",
       "    </tr>\n",
       "    <tr>\n",
       "      <th>2</th>\n",
       "      <td>c32e04c5-2760-4a11-a7a9-ded1f4eb3a8c\\tLung\\tLu...</td>\n",
       "    </tr>\n",
       "    <tr>\n",
       "      <th>3</th>\n",
       "      <td>98dea82b-46f9-4b77-be8a-06669bcf731b\\tKidney\\t...</td>\n",
       "    </tr>\n",
       "    <tr>\n",
       "      <th>4</th>\n",
       "      <td>31da07bb-6752-49a3-a7ea-5427c04a9458\\tBladder\\...</td>\n",
       "    </tr>\n",
       "    <tr>\n",
       "      <th>...</th>\n",
       "      <td>...</td>\n",
       "    </tr>\n",
       "    <tr>\n",
       "      <th>720</th>\n",
       "      <td>a935daeb-1efd-4113-a614-a5e4d446c72b\\tEsophagu...</td>\n",
       "    </tr>\n",
       "    <tr>\n",
       "      <th>721</th>\n",
       "      <td>dd3bfb26-b534-4917-9c4d-9fe7b6477762\\tBreast\\t...</td>\n",
       "    </tr>\n",
       "    <tr>\n",
       "      <th>722</th>\n",
       "      <td>424de829-9efd-4689-ac5d-24485a5d5ecf\\tThyroid\\...</td>\n",
       "    </tr>\n",
       "    <tr>\n",
       "      <th>723</th>\n",
       "      <td>8ad78c4f-c84c-4f9e-88c9-42a05eb65498\\tProstate...</td>\n",
       "    </tr>\n",
       "    <tr>\n",
       "      <th>724</th>\n",
       "      <td>bbdaa931-e922-49be-bfbf-fa0c2ae27d7a\\tKidney\\t...</td>\n",
       "    </tr>\n",
       "  </tbody>\n",
       "</table>\n",
       "<p>725 rows × 1 columns</p>\n",
       "</div>"
      ],
      "text/plain": [
       "    aeec3005-25d7-45fc-a9ff-014d57960216\\tProstate\\tProstate Adenocarcinoma\\tSolid Tissue Normal\\t76a194e5-ba36-4e81-b0b4-6c22a69fe9b5.FPKM-UQ.txt\\tPrimary Tumor\\t26b9d14a-da14-4062-8494-fb87b04e9d7b.FPKM-UQ.txt\n",
       "0    c8fb94dd-c535-48f4-9419-aac2bf47bbb4\\tUterus\\t...                                                                                                                                                             \n",
       "1    de206681-3e27-4d4f-8669-aefb12b5b1e3\\tHead and...                                                                                                                                                             \n",
       "2    c32e04c5-2760-4a11-a7a9-ded1f4eb3a8c\\tLung\\tLu...                                                                                                                                                             \n",
       "3    98dea82b-46f9-4b77-be8a-06669bcf731b\\tKidney\\t...                                                                                                                                                             \n",
       "4    31da07bb-6752-49a3-a7ea-5427c04a9458\\tBladder\\...                                                                                                                                                             \n",
       "..                                                 ...                                                                                                                                                             \n",
       "720  a935daeb-1efd-4113-a614-a5e4d446c72b\\tEsophagu...                                                                                                                                                             \n",
       "721  dd3bfb26-b534-4917-9c4d-9fe7b6477762\\tBreast\\t...                                                                                                                                                             \n",
       "722  424de829-9efd-4689-ac5d-24485a5d5ecf\\tThyroid\\...                                                                                                                                                             \n",
       "723  8ad78c4f-c84c-4f9e-88c9-42a05eb65498\\tProstate...                                                                                                                                                             \n",
       "724  bbdaa931-e922-49be-bfbf-fa0c2ae27d7a\\tKidney\\t...                                                                                                                                                             \n",
       "\n",
       "[725 rows x 1 columns]"
      ]
     },
     "execution_count": 109,
     "metadata": {},
     "output_type": "execute_result"
    }
   ],
   "source": [
    "meta"
   ]
  },
  {
   "cell_type": "code",
   "execution_count": null,
   "metadata": {},
   "outputs": [],
   "source": []
  }
 ],
 "metadata": {
  "kernelspec": {
   "display_name": "myenv",
   "language": "python",
   "name": "myenv"
  },
  "language_info": {
   "codemirror_mode": {
    "name": "ipython",
    "version": 3
   },
   "file_extension": ".py",
   "mimetype": "text/x-python",
   "name": "python",
   "nbconvert_exporter": "python",
   "pygments_lexer": "ipython3",
   "version": "3.6.13"
  }
 },
 "nbformat": 4,
 "nbformat_minor": 2
}
