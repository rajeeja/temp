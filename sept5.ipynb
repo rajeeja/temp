{
 "cells": [
  {
   "cell_type": "code",
   "execution_count": 2,
   "metadata": {},
   "outputs": [
    {
     "name": "stdout",
     "output_type": "stream",
     "text": [
      "['cf_class_0_cluster1.pkl', 'cf_class_1_cluster1.pkl', 'cf_class_1_cluster0.pkl', 'cf_class_0_cluster0.pkl']\n"
     ]
    }
   ],
   "source": [
    "import os\n",
    "import pickle\n",
    "import pandas as pd\n",
    "import mygene\n",
    "\n",
    "clusters=[]\n",
    "files = os.listdir('/home/jain/clusters/sept5-clusters')\n",
    "print(files)\n",
    "os.chdir('/home/jain/clusters/sept5-clusters')\n",
    "log_all = pd.read_csv('https://ftp.mcs.anl.gov/pub/candle/public/benchmarks/Pilot1/normal-tumor/matched_normal_samples.FPKM-UQ.log-transformed.csv', sep=',')\n",
    "import mygene\n",
    "mg = mygene.MyGeneInfo()"
   ]
  },
  {
   "cell_type": "markdown",
   "metadata": {},
   "source": [
    "- Perturbation vectors are obtained by running Counterfactual analysis on NT3 dataset\n",
    "- These are the files (pkl above). Each file represents 1 cluster of perturbation vectors. Using KMeans with 2D PCA.\n",
    "- Inside each file is the centroid, positive indices (indices whos threshold is > 0.9max), negative indices (indices whos threshold is < -0.9max), all the sample indices (from the 1100 dataset) that belong to that particular cluster.\n",
    "- The file names correspond to the cf class (0 or 1) and the cluster index.\n",
    "- Here we try to do a literature review of the threshold genes for cancer\n",
    "- The various types of cancer tumors used in our dataset are here: https://ftp.mcs.anl.gov/pub/candle/public/benchmarks/Pilot1/normal-tumor/matched_normal_samples.metadata.tsv"
   ]
  },
  {
   "cell_type": "code",
   "execution_count": 6,
   "metadata": {},
   "outputs": [],
   "source": [
    "gene_all = list(log_all.columns.values)"
   ]
  },
  {
   "cell_type": "code",
   "execution_count": 33,
   "metadata": {},
   "outputs": [],
   "source": [
    "# print(gene_all)"
   ]
  },
  {
   "cell_type": "code",
   "execution_count": 34,
   "metadata": {},
   "outputs": [],
   "source": [
    "gene_all=gene_all[1:]"
   ]
  },
  {
   "cell_type": "code",
   "execution_count": 37,
   "metadata": {},
   "outputs": [
    {
     "name": "stdout",
     "output_type": "stream",
     "text": [
      "Cluster:  cf_class_0_cluster1.pkl\n",
      "+ve (array([], dtype=int64),)\n",
      "-ve (array([58261]),)\n",
      "print 58261 <class 'numpy.int64'>\n",
      "Cluster:  cf_class_1_cluster1.pkl\n",
      "+ve (array([], dtype=int64),)\n",
      "-ve (array([ 8618,  9603, 14270, 32077]),)\n",
      "print 8618 <class 'numpy.int64'>\n",
      "print 9603 <class 'numpy.int64'>\n",
      "print 14270 <class 'numpy.int64'>\n",
      "print 32077 <class 'numpy.int64'>\n",
      "Cluster:  cf_class_1_cluster0.pkl\n",
      "+ve (array([], dtype=int64),)\n",
      "-ve (array([ 9603, 32077]),)\n",
      "print 9603 <class 'numpy.int64'>\n",
      "print 32077 <class 'numpy.int64'>\n",
      "Cluster:  cf_class_0_cluster0.pkl\n",
      "+ve (array([], dtype=int64),)\n",
      "-ve (array([12122]),)\n",
      "print 12122 <class 'numpy.int64'>\n"
     ]
    },
    {
     "data": {
      "text/plain": [
       "[58261, 8618, 9603, 14270, 32077, 9603, 32077, 12122]"
      ]
     },
     "execution_count": 37,
     "metadata": {},
     "output_type": "execute_result"
    }
   ],
   "source": [
    "os.chdir('/home/jain/clusters/sept5-clusters')\n",
    "cluster_genes=[]\n",
    "for f in files:\n",
    "    clusters = pickle.load(open(f, \"rb\"))\n",
    "    print(\"Cluster: \", f)\n",
    "#     print(clusters)\n",
    "    print(\"+ve\",clusters['positive threshold indices'])\n",
    "    print(\"-ve\",clusters['negative threshold indices'])\n",
    "    a=clusters['positive threshold indices']\n",
    "    b=clusters['negative threshold indices']\n",
    "    for bb in b:\n",
    "        for i in bb:\n",
    "            print(\"print\", i, type(i))\n",
    "            cluster_genes.append(i)\n",
    "    for aa in a:\n",
    "        for j in aa:\n",
    "            print(\"print\", j, type(j))\n",
    "            cluster_genes.append(j)\n",
    "cluster_genes"
   ]
  },
  {
   "cell_type": "code",
   "execution_count": 51,
   "metadata": {},
   "outputs": [
    {
     "data": {
      "text/plain": [
       "[9603, 8618, 32077, 58261, 12122, 14270]"
      ]
     },
     "execution_count": 51,
     "metadata": {},
     "output_type": "execute_result"
    }
   ],
   "source": [
    "gene_names = []\n",
    "# 9603 32077 appears twice? \n",
    "cluster_genes=list(set(cluster_genes))\n",
    "for g in cluster_genes:\n",
    "    split=gene_all[g].split(\".\")\n",
    "    gene_names.append(split[0])\n",
    "    \n",
    "    \n",
    "cluster_genes"
   ]
  },
  {
   "cell_type": "code",
   "execution_count": 52,
   "metadata": {},
   "outputs": [
    {
     "name": "stdout",
     "output_type": "stream",
     "text": [
      "querying 1-6...done.\n",
      "Finished.\n"
     ]
    }
   ],
   "source": [
    "gene_names\n",
    "geneSyms = mg.querymany(gene_names , scopes='ensembl.gene', fields='symbol', species='human')"
   ]
  },
  {
   "cell_type": "code",
   "execution_count": 70,
   "metadata": {},
   "outputs": [
    {
     "data": {
      "text/plain": [
       "[{'query': 'ENSG00000236699',\n",
       "  '_id': '54848',\n",
       "  '_score': 22.490173,\n",
       "  'symbol': 'ARHGEF38'},\n",
       " {'query': 'ENSG00000223516',\n",
       "  '_id': 'ENSG00000223516',\n",
       "  '_score': 23.34138,\n",
       "  'symbol': 'AFF2-IT1'},\n",
       " {'query': 'ENSG00000173826',\n",
       "  '_id': '81033',\n",
       "  '_score': 22.549414,\n",
       "  'symbol': 'KCNH6'},\n",
       " {'query': 'ENSG00000143344',\n",
       "  '_id': '23179',\n",
       "  '_score': 22.027897,\n",
       "  'symbol': 'RGL1'},\n",
       " {'query': 'ENSG00000159387',\n",
       "  '_id': '79190',\n",
       "  '_score': 22.549414,\n",
       "  'symbol': 'IRX6'},\n",
       " {'query': 'ENSG00000207060',\n",
       "  '_id': 'ENSG00000207060',\n",
       "  '_score': 7.529477,\n",
       "  'symbol': 'RNU6-480P'}]"
      ]
     },
     "execution_count": 70,
     "metadata": {},
     "output_type": "execute_result"
    }
   ],
   "source": [
    "geneSyms"
   ]
  },
  {
   "cell_type": "code",
   "execution_count": 89,
   "metadata": {},
   "outputs": [
    {
     "data": {
      "text/plain": [
       "['ARHGEF38', 'AFF2-IT1', 'KCNH6', 'RGL1', 'IRX6', 'RNU6-480P']"
      ]
     },
     "execution_count": 89,
     "metadata": {},
     "output_type": "execute_result"
    }
   ],
   "source": [
    "symbols = [i['symbol'] for i in geneSyms if 'symbol' in i]\n",
    "symbols"
   ]
  },
  {
   "cell_type": "code",
   "execution_count": 64,
   "metadata": {},
   "outputs": [
    {
     "data": {
      "text/plain": [
       "{'query': 'ENSG00000236699',\n",
       " '_id': '54848',\n",
       " '_score': 22.490173,\n",
       " 'symbol': 'ARHGEF38'}"
      ]
     },
     "execution_count": 64,
     "metadata": {},
     "output_type": "execute_result"
    }
   ],
   "source": [
    "geneSyms[:][0] \n",
    "# appeared twice in our list"
   ]
  },
  {
   "cell_type": "markdown",
   "metadata": {},
   "source": [
    "The results from the present study demonstrated that ARHGEF38 is significantly overexpressed in PCa than BPH, especially, high-grade prostate cancer. This suggested that ARHGEF38 might promote prostate cancer migration and hence attribute to PCa progression. https://www.proteinatlas.org/ENSG00000236699-ARHGEF38/pathology"
   ]
  },
  {
   "cell_type": "code",
   "execution_count": 65,
   "metadata": {},
   "outputs": [
    {
     "data": {
      "text/plain": [
       "{'query': 'ENSG00000223516',\n",
       " '_id': 'ENSG00000223516',\n",
       " '_score': 23.34138,\n",
       " 'symbol': 'AFF2-IT1'}"
      ]
     },
     "execution_count": 65,
     "metadata": {},
     "output_type": "execute_result"
    }
   ],
   "source": [
    "geneSyms[:][1]"
   ]
  },
  {
   "cell_type": "markdown",
   "metadata": {},
   "source": [
    "Related to mental health https://www.genecards.org/cgi-bin/carddisp.pl?gene=AFF2\n",
    "Maybe thyroid cancer https://www.proteinatlas.org/ENSG00000155966-AFF2/pathology"
   ]
  },
  {
   "cell_type": "code",
   "execution_count": 66,
   "metadata": {},
   "outputs": [
    {
     "data": {
      "text/plain": [
       "{'query': 'ENSG00000173826',\n",
       " '_id': '81033',\n",
       " '_score': 22.549414,\n",
       " 'symbol': 'KCNH6'}"
      ]
     },
     "execution_count": 66,
     "metadata": {},
     "output_type": "execute_result"
    }
   ],
   "source": [
    "geneSyms[:][2]\n",
    "# appeared twice in our list"
   ]
  },
  {
   "cell_type": "markdown",
   "metadata": {},
   "source": [
    "https://www.proteinatlas.org/ENSG00000173826-KCNH6/tissue \n",
    "https://www.proteinatlas.org/ENSG00000173826-KCNH6/pathology (prostate cancer) graph shows elevated values"
   ]
  },
  {
   "cell_type": "code",
   "execution_count": 67,
   "metadata": {},
   "outputs": [
    {
     "data": {
      "text/plain": [
       "{'query': 'ENSG00000143344',\n",
       " '_id': '23179',\n",
       " '_score': 22.027897,\n",
       " 'symbol': 'RGL1'}"
      ]
     },
     "execution_count": 67,
     "metadata": {},
     "output_type": "execute_result"
    }
   ],
   "source": [
    "geneSyms[:][3]"
   ]
  },
  {
   "cell_type": "markdown",
   "metadata": {},
   "source": [
    "https://www.proteinatlas.org/ENSG00000143344-RGL1/pathology no specific type of cancer but graph shows can be present at elevated levels for several types of cancer"
   ]
  },
  {
   "cell_type": "code",
   "execution_count": 68,
   "metadata": {},
   "outputs": [
    {
     "data": {
      "text/plain": [
       "{'query': 'ENSG00000159387',\n",
       " '_id': '79190',\n",
       " '_score': 22.549414,\n",
       " 'symbol': 'IRX6'}"
      ]
     },
     "execution_count": 68,
     "metadata": {},
     "output_type": "execute_result"
    }
   ],
   "source": [
    "geneSyms[:][4]"
   ]
  },
  {
   "cell_type": "markdown",
   "metadata": {},
   "source": [
    "https://www.proteinatlas.org/ENSG00000159387-IRX6/pathology posible lung cancer"
   ]
  },
  {
   "cell_type": "code",
   "execution_count": 69,
   "metadata": {},
   "outputs": [
    {
     "data": {
      "text/plain": [
       "{'query': 'ENSG00000207060',\n",
       " '_id': 'ENSG00000207060',\n",
       " '_score': 7.529477,\n",
       " 'symbol': 'RNU6-480P'}"
      ]
     },
     "execution_count": 69,
     "metadata": {},
     "output_type": "execute_result"
    }
   ],
   "source": [
    "geneSyms[:][5]"
   ]
  },
  {
   "cell_type": "markdown",
   "metadata": {},
   "source": [
    "might be related to colon cancer https://rgd.mcw.edu/rgdweb/report/gene/main.html?id=1343798 "
   ]
  },
  {
   "cell_type": "code",
   "execution_count": 86,
   "metadata": {},
   "outputs": [],
   "source": []
  },
  {
   "cell_type": "code",
   "execution_count": null,
   "metadata": {},
   "outputs": [],
   "source": []
  },
  {
   "cell_type": "code",
   "execution_count": null,
   "metadata": {},
   "outputs": [],
   "source": []
  }
 ],
 "metadata": {
  "kernelspec": {
   "display_name": "myenv",
   "language": "python",
   "name": "myenv"
  },
  "language_info": {
   "codemirror_mode": {
    "name": "ipython",
    "version": 3
   },
   "file_extension": ".py",
   "mimetype": "text/x-python",
   "name": "python",
   "nbconvert_exporter": "python",
   "pygments_lexer": "ipython3",
   "version": "3.6.13"
  }
 },
 "nbformat": 4,
 "nbformat_minor": 2
}
